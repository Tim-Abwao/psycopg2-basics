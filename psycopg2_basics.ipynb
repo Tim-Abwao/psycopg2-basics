{
 "cells": [
  {
   "cell_type": "markdown",
   "metadata": {},
   "source": [
    "# 1. Connecting to the Postgres Server\n",
    "\n",
    "- To create a temporary role to work with just for this session, use the following command:\n",
    "\n",
    "  ```bash\n",
    "  $ createuser psycopg2_test_user --createdb -P\n",
    "  ```\n",
    "\n",
    "- It's also recommended to create a new database to work in:\n",
    "\n",
    "  ```bash\n",
    "  $ createdb psycopg2_test\n",
    "  ```\n",
    "\n",
    "- For *postgresql* versions 15 and above, you'll have to grant privileges to the test user:\n",
    "\n",
    "  ```bash\n",
    "  $ psql psycopg2_test -c \"GRANT ALL ON DATABASE psycopg2_test TO psycopg2_test_user;\"\n",
    "  ```\n",
    "\n",
    "**NOTE:** All created objects will be removed in the end."
   ]
  },
  {
   "cell_type": "code",
   "execution_count": 1,
   "metadata": {},
   "outputs": [],
   "source": [
    "from getpass import getpass\n",
    "\n",
    "import psycopg2\n",
    "from psycopg2.extras import execute_values"
   ]
  },
  {
   "cell_type": "code",
   "execution_count": 2,
   "metadata": {
    "scrolled": true
   },
   "outputs": [
    {
     "name": "stdout",
     "output_type": "stream",
     "text": [
      "User password: ········\n"
     ]
    }
   ],
   "source": [
    "# Establish a connection to the database\n",
    "conn = psycopg2.connect(\n",
    "    dbname=\"psycopg2_test\",\n",
    "    user=\"psycopg2_test_user\",\n",
    "    password=getpass(prompt=\"User password: \"),\n",
    "    host=\"localhost\",\n",
    "    port=\"5432\",\n",
    ")"
   ]
  },
  {
   "cell_type": "markdown",
   "metadata": {},
   "source": [
    "# 2. Basic Database Operations\n",
    "\n",
    "## 2.1 Creating tables"
   ]
  },
  {
   "cell_type": "code",
   "execution_count": 3,
   "metadata": {},
   "outputs": [
    {
     "name": "stdout",
     "output_type": "stream",
     "text": [
      "Server version:\n",
      "\n",
      "PostgreSQL 15.1 (Ubuntu 15.1-1.pgdg22.10+1) on x86_64-pc-linux-gnu, compiled by gcc (Ubuntu 12.2.0-3ubuntu1) 12.2.0, 64-bit\n"
     ]
    }
   ],
   "source": [
    "with conn:\n",
    "    with conn.cursor() as cursor:\n",
    "        # Print postgresql version\n",
    "        cursor.execute(\"SELECT version();\")\n",
    "        db_version = cursor.fetchone()[0]\n",
    "        print(f\"Server version:\\n\\n{db_version}\")\n",
    "\n",
    "        # Create a schema to work in. Necessary since postgres version 15\n",
    "        cursor.execute(\n",
    "            \"\"\"\n",
    "            CREATE SCHEMA test_schema;\n",
    "            SET search_path TO test_schema;\n",
    "            \"\"\")\n",
    "\n",
    "        # Create a table of UTF-8 characters\n",
    "        cursor.execute(\n",
    "            \"\"\"\n",
    "            CREATE TABLE utf8_chars (\n",
    "                code_point   integer PRIMARY KEY,\n",
    "                character    text NOT NULL\n",
    "            );\n",
    "            \"\"\"\n",
    "        )\n",
    "\n",
    "        # Create a table to hold sample export data\n",
    "        cursor.execute(\n",
    "            \"\"\"\n",
    "            CREATE TABLE exports (\n",
    "                type        text NOT NULL,\n",
    "                commodity   text NOT NULL,\n",
    "                mass_in_kg  numeric(11, 2) NOT NULL,\n",
    "                price       numeric(15, 2) NOT NULL,\n",
    "                date        timestamp NOT NULL\n",
    "                CHECK (mass_in_kg > 0 AND price > 0)\n",
    "            );\n",
    "            \"\"\"\n",
    "        )"
   ]
  },
  {
   "cell_type": "markdown",
   "metadata": {},
   "source": [
    "## 2.2 Inserting data"
   ]
  },
  {
   "cell_type": "code",
   "execution_count": 4,
   "metadata": {
    "scrolled": true
   },
   "outputs": [],
   "source": [
    "with conn:\n",
    "    with conn.cursor() as cursor:\n",
    "        # Insert one row into the \"utf8_chars\" table\n",
    "        cursor.execute(\"INSERT INTO utf8_chars VALUES (%s, %s)\", (1, chr(1)))\n",
    "\n",
    "        # Insert multiple rows (very inefficient)\n",
    "        cursor.executemany(\n",
    "            \"INSERT INTO utf8_chars VALUES (%s, %s)\",\n",
    "            [(code_point, chr(code_point)) for code_point in range(2, 50)],\n",
    "        )\n",
    "        # Insert multiple rows efficiently\n",
    "        execute_values(\n",
    "            cur=cursor,\n",
    "            sql=\"INSERT INTO utf8_chars VALUES %s\",\n",
    "            argslist=[(code_point, chr(code_point)) for code_point in range(51, 128)],\n",
    "        )\n",
    "\n",
    "        # Import data from a CSV file into the \"exports\" table\n",
    "        cursor.execute(\"SET datestyle='MDY';\")  # Set date format\n",
    "        with open(\"exports_data.csv\") as exports_file:\n",
    "            header = exports_file.readline()\n",
    "            cursor.copy_from(file=exports_file, table=\"exports\", sep=\",\", null=\"\")"
   ]
  },
  {
   "cell_type": "markdown",
   "metadata": {},
   "source": [
    "## 2.3 Fetching data"
   ]
  },
  {
   "cell_type": "code",
   "execution_count": 5,
   "metadata": {
    "scrolled": false
   },
   "outputs": [
    {
     "name": "stdout",
     "output_type": "stream",
     "text": [
      "fetchone():  (1, '\\x01') \n",
      "\n",
      "fetchmany(5):  [(2, '\\x02'), (3, '\\x03'), (4, '\\x04'), (5, '\\x05'), (6, '\\x06')] \n",
      "\n",
      "fetchall():  [(7, '\\x07'), (8, '\\x08'), (9, '\\t'), (10, '\\n'), (11, '\\x0b'), (12, '\\x0c'), (13, '\\r'), (14, '\\x0e'), (15, '\\x0f'), (16, '\\x10'), (17, '\\x11'), (18, '\\x12'), (19, '\\x13'), (20, '\\x14'), (21, '\\x15'), (22, '\\x16'), (23, '\\x17'), (24, '\\x18'), (25, '\\x19'), (26, '\\x1a'), (27, '\\x1b'), (28, '\\x1c'), (29, '\\x1d'), (30, '\\x1e'), (31, '\\x1f'), (32, ' '), (33, '!'), (34, '\"'), (35, '#'), (36, '$'), (37, '%'), (38, '&'), (39, \"'\"), (40, '('), (41, ')'), (42, '*'), (43, '+'), (44, ','), (45, '-'), (46, '.'), (47, '/'), (48, '0'), (49, '1'), (51, '3'), (52, '4'), (53, '5'), (54, '6'), (55, '7'), (56, '8'), (57, '9'), (58, ':'), (59, ';'), (60, '<'), (61, '='), (62, '>'), (63, '?'), (64, '@'), (65, 'A'), (66, 'B'), (67, 'C'), (68, 'D'), (69, 'E'), (70, 'F'), (71, 'G'), (72, 'H'), (73, 'I'), (74, 'J'), (75, 'K'), (76, 'L'), (77, 'M'), (78, 'N'), (79, 'O'), (80, 'P'), (81, 'Q'), (82, 'R'), (83, 'S'), (84, 'T'), (85, 'U'), (86, 'V'), (87, 'W'), (88, 'X'), (89, 'Y'), (90, 'Z'), (91, '['), (92, '\\\\'), (93, ']'), (94, '^'), (95, '_'), (96, '`'), (97, 'a'), (98, 'b'), (99, 'c'), (100, 'd'), (101, 'e'), (102, 'f'), (103, 'g'), (104, 'h'), (105, 'i'), (106, 'j'), (107, 'k'), (108, 'l'), (109, 'm'), (110, 'n'), (111, 'o'), (112, 'p'), (113, 'q'), (114, 'r'), (115, 's'), (116, 't'), (117, 'u'), (118, 'v'), (119, 'w'), (120, 'x'), (121, 'y'), (122, 'z'), (123, '{'), (124, '|'), (125, '}'), (126, '~'), (127, '\\x7f')]\n",
      "\n",
      "\n",
      "Transactions worth billions: \n",
      "\n",
      "('Cut-flowers', 'Roses', Decimal('5715510707.00'))\n",
      "('Cut-flowers', 'Roses', Decimal('5231748979.00'))\n",
      "('Cut-flowers', 'Roses', Decimal('4838506443.00'))\n",
      "('Cut-flowers', 'Roses', Decimal('4090307896.00'))\n",
      "('Cut-flowers', 'Roses', Decimal('3531459457.00'))\n",
      "('Cut-flowers', 'Roses', Decimal('3502295002.00'))\n",
      "('Cut-flowers', 'Cuttings', Decimal('3437979029.00'))\n",
      "('Cut-flowers', 'Roses', Decimal('3400301890.00'))\n",
      "('Cut-flowers', 'Roses', Decimal('3393323056.00'))\n",
      "('Cut-flowers', 'Roses', Decimal('3185700257.00'))\n",
      "('Cut-flowers', 'Roses', Decimal('2512009009.00'))\n",
      "('Cut-flowers', 'Roses', Decimal('2508429125.00'))\n",
      "('Cut-flowers', 'Roses', Decimal('2296263903.00'))\n",
      "('Vegetables', 'Fine beans', Decimal('1774714791.00'))\n",
      "('Cut-flowers', 'Geranium cuttings', Decimal('1291615579.00'))\n",
      "('Vegetables', 'Mixed vegetables', Decimal('1030132554.00'))\n",
      "('Vegetables', 'Mixed vegetables', Decimal('1018151186.00'))\n"
     ]
    }
   ],
   "source": [
    "with conn:\n",
    "    with conn.cursor() as cursor:\n",
    "        cursor.execute(\"SELECT * FROM utf8_chars;\")\n",
    "        print(\n",
    "            \"fetchone(): \",\n",
    "            cursor.fetchone(),  # Fetch the next row of a query result set\n",
    "            \"\\n\\nfetchmany(5): \",\n",
    "            cursor.fetchmany(5),  # Fetch the next `size` rows of a query result\n",
    "            \"\\n\\nfetchall(): \",\n",
    "            cursor.fetchall(),  # Fetch all (remaining) rows of a query result\n",
    "        )\n",
    "\n",
    "        cursor.execute(\n",
    "            \"\"\"\n",
    "            SELECT type, commodity, price\n",
    "              FROM exports\n",
    "              WHERE (price > %s)\n",
    "              ORDER BY price DESC;\n",
    "            \"\"\",\n",
    "            ((1_000_000_000),),\n",
    "        )\n",
    "        print(\"\\n\\nTransactions worth billions: \\n\", *cursor.fetchall(), sep=\"\\n\")"
   ]
  },
  {
   "cell_type": "markdown",
   "metadata": {},
   "source": [
    "## 2.4 Deleting data"
   ]
  },
  {
   "cell_type": "code",
   "execution_count": 6,
   "metadata": {
    "scrolled": false
   },
   "outputs": [
    {
     "name": "stdout",
     "output_type": "stream",
     "text": [
      "Deleted rows:  (65, 'A') (66, 'B') (67, 'C') (68, 'D') (69, 'E') (70, 'F') (71, 'G') (72, 'H') (73, 'I') (74, 'J') (75, 'K')\n"
     ]
    }
   ],
   "source": [
    "with conn:\n",
    "    with conn.cursor() as cursor:\n",
    "        cursor.execute(\n",
    "            \"\"\"\n",
    "            DELETE FROM utf8_chars\n",
    "              WHERE code_point BETWEEN %(lower)s AND %(upper)s\n",
    "              RETURNING *;\n",
    "            \"\"\",\n",
    "            {\"lower\": 65, \"upper\": 75}\n",
    "        )\n",
    "        print(\"Deleted rows: \", *cursor.fetchall())"
   ]
  },
  {
   "cell_type": "markdown",
   "metadata": {},
   "source": [
    "## 2.5 Basic operations and aggregations"
   ]
  },
  {
   "cell_type": "code",
   "execution_count": 7,
   "metadata": {
    "scrolled": false
   },
   "outputs": [
    {
     "name": "stdout",
     "output_type": "stream",
     "text": [
      "Most traded commodities by mass: \n",
      "\n",
      "('Roses', Decimal('105164149.83'))\n",
      "('Avocado', Decimal('31225859.63'))\n",
      "('Mixed vegetables', Decimal('28129937.97'))\n",
      "('Fine beans', Decimal('23090599.07'))\n",
      "('Mango', Decimal('14047648.26'))\n"
     ]
    }
   ],
   "source": [
    "with conn:\n",
    "    with conn.cursor() as cursor:\n",
    "        cursor.execute(\n",
    "            \"\"\"\n",
    "            SELECT commodity, sum(mass_in_kg) AS total_mass\n",
    "              FROM exports\n",
    "              GROUP BY commodity\n",
    "              ORDER BY total_mass DESC\n",
    "              LIMIT 5;\n",
    "            \"\"\"\n",
    "        )\n",
    "        print(\"Most traded commodities by mass: \\n\", *cursor.fetchall(), sep=\"\\n\")"
   ]
  },
  {
   "cell_type": "code",
   "execution_count": 8,
   "metadata": {
    "scrolled": false
   },
   "outputs": [
    {
     "name": "stdout",
     "output_type": "stream",
     "text": [
      "Top 5 exports by average price-per-kg: \n",
      "\n",
      "('Cut-flowers', 'Geranium cuttings', Decimal('230466.16'))\n",
      "('Cut-flowers', 'Asters', Decimal('34444.89'))\n",
      "('Vegetables', 'Tomato', Decimal('26495.82'))\n",
      "('Cut-flowers', 'Cuttings', Decimal('7687.88'))\n",
      "('Cut-flowers', 'Phlox', Decimal('7069.64'))\n"
     ]
    }
   ],
   "source": [
    "with conn:\n",
    "    with conn.cursor() as cursor:\n",
    "        cursor.execute(\n",
    "            \"\"\"\n",
    "            SELECT type, commodity, round(avg(price / mass_in_kg), 2) AS price_per_kg\n",
    "              FROM exports\n",
    "              GROUP BY type, commodity\n",
    "              ORDER BY price_per_kg DESC\n",
    "              LIMIT 5;\n",
    "            \"\"\",\n",
    "            ((0),)\n",
    "        )\n",
    "        print(\"Top 5 exports by average price-per-kg: \\n\", *cursor.fetchall(), sep=\"\\n\")"
   ]
  },
  {
   "cell_type": "code",
   "execution_count": 9,
   "metadata": {},
   "outputs": [
    {
     "name": "stdout",
     "output_type": "stream",
     "text": [
      "Maximum, minimum and average mass by type: \n",
      "\n",
      "('Cut-flowers', Decimal('11049185.48'), Decimal('0.47'), Decimal('164424.40'))\n",
      "('Fruits', Decimal('5302741.82'), Decimal('2.00'), Decimal('416633.76'))\n",
      "('Vegetables', Decimal('3565356.17'), Decimal('1.09'), Decimal('144837.01'))\n"
     ]
    }
   ],
   "source": [
    "with conn:\n",
    "    with conn.cursor() as cursor:\n",
    "        cursor.execute(\n",
    "            \"\"\"\n",
    "            SELECT type, max(mass_in_kg), min(mass_in_kg), round(avg(mass_in_kg), 2)\n",
    "              FROM exports\n",
    "              GROUP BY type\n",
    "              ORDER BY max DESC;\n",
    "            \"\"\"\n",
    "        )\n",
    "        print(\n",
    "            \"Maximum, minimum and average mass by type: \\n\", *cursor.fetchall(), sep='\\n'\n",
    "        )"
   ]
  },
  {
   "cell_type": "markdown",
   "metadata": {},
   "source": [
    "# 3. Clean Up (Removing objects)"
   ]
  },
  {
   "cell_type": "code",
   "execution_count": 10,
   "metadata": {},
   "outputs": [],
   "source": [
    "with conn:\n",
    "    with conn.cursor() as cur:\n",
    "        # Delete a table\n",
    "        cur.execute(\"DROP TABLE utf8_chars;\")\n",
    "\n",
    "        # Remove everything created/owned by our dummy user\n",
    "        cur.execute(\"DROP OWNED BY psycopg2_test_user;\")\n",
    "\n",
    "# Close the connection to database\n",
    "conn.close()"
   ]
  },
  {
   "cell_type": "code",
   "execution_count": 11,
   "metadata": {
    "scrolled": true
   },
   "outputs": [],
   "source": [
    "%%bash\n",
    "# Delete the \"psycopg2_test\" database\n",
    "dropdb psycopg2_test\n",
    "\n",
    "# Delete the dummy user\n",
    "dropuser psycopg2_test_user"
   ]
  }
 ],
 "metadata": {
  "kernelspec": {
   "display_name": "Python 3 (ipykernel)",
   "language": "python",
   "name": "python3"
  },
  "language_info": {
   "codemirror_mode": {
    "name": "ipython",
    "version": 3
   },
   "file_extension": ".py",
   "mimetype": "text/x-python",
   "name": "python",
   "nbconvert_exporter": "python",
   "pygments_lexer": "ipython3",
   "version": "3.10.7"
  }
 },
 "nbformat": 4,
 "nbformat_minor": 2
}
